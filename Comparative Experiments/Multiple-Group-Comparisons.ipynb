{
  "cells": [
    {
      "cell_type": "markdown",
      "metadata": {
        "id": "view-in-github",
        "colab_type": "text"
      },
      "source": [
        "<a href=\"https://colab.research.google.com/github/GabriellebWright/STAT-7220-Applied-Experimental-Design/blob/Personal---Notes/Comparative%20Experiments/Multiple-Group-Comparisons.ipynb\" target=\"_parent\"><img src=\"https://colab.research.google.com/assets/colab-badge.svg\" alt=\"Open In Colab\"/></a>"
      ]
    },
    {
      "cell_type": "markdown",
      "id": "3e588185",
      "metadata": {
        "id": "3e588185"
      },
      "source": [
        "# Comparative Experiments with More than Two Groups\n",
        "# Multiple Comparisons and Post-Hoc Evaluation of ANOVA Methods\n",
        "## Dr Austin R Brown\n",
        "## School of Data Science and Analytics\n",
        "### Kennesaw State University"
      ]
    },
    {
      "cell_type": "code",
      "execution_count": 3,
      "id": "c347f5f0",
      "metadata": {
        "id": "c347f5f0",
        "outputId": "7f3488da-7bbe-42f8-db44-460a3bfdab56",
        "colab": {
          "base_uri": "https://localhost:8080/"
        }
      },
      "outputs": [
        {
          "output_type": "stream",
          "name": "stdout",
          "text": [
            "📥 Cloning repo from https://github.com/GabriellebWright/STAT-7220-Applied-Experimental-Design.git...\n",
            "📂 Changed directory to: /content/STAT-7220-Applied-Experimental-Design\n",
            "🔗 Connected to fork at: https://github.com/GabriellebWright/STAT-7220-Applied-Experimental-Design.git\n",
            "📂 Changed directory to: /content/STAT-7220-Applied-Experimental-Design/Comparative Experiments\n"
          ]
        }
      ],
      "source": [
        "# === COURSE REPO SETUP === #\n",
        "\n",
        "# 1. ENTER your GitHub username (the one that owns your fork)\n",
        "github_username = \"GabriellebWright\"\n",
        "\n",
        "# 2. Name of the repo (don't change unless your fork name is different)\n",
        "repo_name = \"STAT-7220-Applied-Experimental-Design\"\n",
        "\n",
        "# 3. Build the full repo URL for cloning\n",
        "repo_url = f\"https://github.com/{github_username}/{repo_name}.git\"\n",
        "\n",
        "import os\n",
        "\n",
        "# --- Detect if we're already in a repo ---\n",
        "cwd = os.getcwd()\n",
        "if cwd.endswith(repo_name):\n",
        "    print(f\"✅ Already inside repo folder: {cwd}\")\n",
        "else:\n",
        "    # --- If the repo folder exists, check if it's nested ---\n",
        "    if os.path.exists(repo_name):\n",
        "        print(f\"⚠️ Found existing folder '{repo_name}'. Skipping clone to avoid nesting.\")\n",
        "    else:\n",
        "        print(f\"📥 Cloning repo from {repo_url}...\")\n",
        "        os.system(f\"git clone {repo_url}\")\n",
        "\n",
        "    # --- Change to repo directory ---\n",
        "    if os.path.exists(repo_name):\n",
        "        os.chdir(repo_name)\n",
        "        print(f\"📂 Changed directory to: {os.getcwd()}\")\n",
        "    else:\n",
        "        print(\"❌ ERROR: Repo folder not found. Please check your GitHub username.\")\n",
        "\n",
        "# --- Check if this is the instructor's repo instead of student's fork ---\n",
        "# This command needs to be run from within the repository directory\n",
        "remote_url = os.popen(\"git config --get remote.origin.url\").read().strip()\n",
        "\n",
        "if \"abrown9008\" in remote_url:\n",
        "  print(\"⚠️ WARNING: You are working in the instructor's repo, not your fork!\")\n",
        "  print(\"💡 Please fork the repo to your own account and update `github_username` above.\")\n",
        "else:\n",
        "    print(f\"🔗 Connected to fork at: {remote_url}\")\n",
        "\n",
        "# Set Today's Directory #\n",
        "\n",
        "today_dir = \"Comparative Experiments\"\n",
        "os.chdir(today_dir)\n",
        "print(f\"📂 Changed directory to: {os.getcwd()}\")"
      ]
    },
    {
      "cell_type": "markdown",
      "id": "6dc651d7",
      "metadata": {
        "id": "6dc651d7"
      },
      "source": [
        "## Introduction\n",
        "\n",
        "- In the last [lecture](https://github.com/abrown9008/STAT-7220-Applied-Experimental-Design/blob/main/Comparative%20Experiments/Introduction%20to%20Completely%20Randomized%20Designs.ipynb), we learned about techniques we can use in a completely randomized design.\n",
        "\n",
        "    - The independent means $t$-test and one-way ANOVA\n",
        "\n",
        "- In both the Dog Toys and the Can Cooler example, we only had two groups. So at the conclusion of our $t$-test, we had explicit evidence that these specific two group means were or were not substantially different from each other.\n",
        "\n",
        "    - But what if we have more than two groups?\n",
        "\n",
        "### Example: Breakfast Foods\n",
        "\n",
        "- Suppose we are the head chef for an upscale breakfast restaurant chain. We are considering preparing our fried eggs using one of three different techniques:\n",
        "\n",
        "    - Technique 1: Fried in butter\n",
        "    - Technique 2: Fried in olive oil\n",
        "    - Technique 3: Fried in bacon grease\n",
        "\n",
        "- Obviously, we want to choose the technique that produces the best tasting eggs. We decide to conduct an experiment to determine which technique produces the best tasting eggs.\n",
        "\n",
        "- To conduct the experiment, we decide to host a focus group. Among the 90 focus group participants, we randomly assign 30 to each of the three techniques.\n",
        "\n",
        "- After the focus group, we ask each participant to rate the taste of the eggs on a scale of 1 to 10 with higher scores indicating a more positive rating and vice versa. The data is contained in the `Eggs Rating.xlsx` file.\n",
        "\n",
        "### Descriptive Analysis\n",
        "\n",
        "- In this CRD, where we have a quantitative outcome (egg rating) and the cooking technique serves as the IV (and the treatment), we will first begin by performing some descriptive analysis:"
      ]
    },
    {
      "cell_type": "code",
      "execution_count": null,
      "id": "d4946b95",
      "metadata": {
        "id": "d4946b95",
        "outputId": "137f7623-6013-4847-e944-2c3dff515e63"
      },
      "outputs": [
        {
          "name": "stdout",
          "output_type": "stream",
          "text": [
            "<class 'pandas.core.frame.DataFrame'>\n",
            "RangeIndex: 90 entries, 0 to 89\n",
            "Data columns (total 2 columns):\n",
            " #   Column     Non-Null Count  Dtype \n",
            "---  ------     --------------  ----- \n",
            " 0   Technique  90 non-null     object\n",
            " 1   Rating     90 non-null     int64 \n",
            "dtypes: int64(1), object(1)\n",
            "memory usage: 1.5+ KB\n",
            "None\n",
            "                  mean       std\n",
            "Technique                       \n",
            "Bacon Grease  8.166667  1.391683\n",
            "Butter        5.900000  2.233754\n",
            "Olive Oil     6.866667  2.208656\n"
          ]
        },
        {
          "data": {
            "text/plain": [
              "Text(0, 0.5, 'Rating')"
            ]
          },
          "execution_count": null,
          "metadata": {},
          "output_type": "execute_result"
        },
        {
          "data": {
            "image/png": "[encoded data removed]",
            "text/plain": [
              "<Figure size 640x480 with 1 Axes>"
            ]
          },
          "metadata": {},
          "output_type": "display_data"
        }
      ],
      "source": [
        "## Import Necessary Python Packages ##\n",
        "import pandas as pd\n",
        "import numpy as np\n",
        "import seaborn as sns\n",
        "import matplotlib.pyplot as plt\n",
        "import statsmodels.api as sm\n",
        "from statsmodels.formula.api import ols\n",
        "\n",
        "## Read in Egg Rating Excel File ##\n",
        "\n",
        "egg_data = pd.read_excel(\"Egg Rating.xlsx\")\n",
        "\n",
        "## Data Integrity Check ##\n",
        "\n",
        "print(egg_data.info())\n",
        "\n",
        "## Calculate Mean and Standard Deviation\n",
        "## of Egg Rating by Cooking Technique ##\n",
        "\n",
        "egg_stats = egg_data.groupby('Technique')['Rating'].agg(['mean','std'])\n",
        "\n",
        "print(egg_stats)\n",
        "\n",
        "## Generate Boxplot for Visual Comparison ##\n",
        "\n",
        "## Set style (default is \"darkgrid\") ##\n",
        "\n",
        "sns.set_style(\"whitegrid\")\n",
        "\n",
        "## Create boxplot ##\n",
        "\n",
        "sns.boxplot(x=\"Technique\",y=\"Rating\",data=egg_data)\n",
        "\n",
        "## Add Title and Labels ##\n",
        "\n",
        "plt.title(\"Boxplot of Egg Ratings by Cooking Technique\", loc='center')\n",
        "plt.xlabel(\"Cooking Technique\")\n",
        "plt.ylabel(\"Rating\")"
      ]
    },
    {
      "cell_type": "markdown",
      "id": "4a6d9c57",
      "metadata": {
        "id": "4a6d9c57"
      },
      "source": [
        "- First, we can see that eggs cooked with bacon grease far and away have the greatest mean rating.\n",
        "\n",
        "- The Butter and Olive Oil techniques are also fairly different from each other, but the difference isn't as great.\n",
        "\n",
        "- Looking at the boxplots, we can see that the Bacon Grease box doesn't have much overlap with the Butter and Olive Oil boxes, which would indicate that Bacon Grease is likely substantially different than the other two groups.\n",
        "\n",
        "- The Butter and Olive Oil boxes do have a good amount of overlap which would potentially indicate that the response patterns between those two groups may not be substantially different.\n",
        "\n",
        "- Let's keep this information in mind as we begin our inferential analysis!\n",
        "\n",
        "### Inferential Analysis\n",
        "\n",
        "- Here, we will be performing a one-way ANOVA model. The hypotheses we will specifically be testing are:\n",
        "\n",
        "$$ H_0: \\mu_{\\text{Bacon Grease}} = \\mu_{\\text{Butter}} = \\mu_{\\text{Olive Oil}} $$\n",
        "\n",
        "$$ H_1: \\text{At least one pair of means differ substantially} $$\n",
        "\n",
        "- The model we will be building is:\n",
        "\n",
        "$$ y_{ij} = \\mu + \\tau_i + \\varepsilon_{ij} $$\n",
        "\n",
        "- where:\n",
        "    - $y_{ij}$ denotes the egg rating provided by the $j$th participant in the $i$th treatment group,\n",
        "    - $\\mu$ represents the overall mean egg rating,\n",
        "    - $\\tau_i$ represents the treatment effect of the $i$th group, and\n",
        "    - $\\varepsilon_{ij}$ represents the $j$th random error term in the $i$th treatment group.\n",
        "\n",
        "- Now that we have clearly specified our hypotheses and model, we can go ahead and fit the one-way ANOVA model and obtain the ANOVA table using the `ols` function."
      ]
    },
    {
      "cell_type": "code",
      "execution_count": null,
      "id": "9977b71e",
      "metadata": {
        "id": "9977b71e",
        "outputId": "85dbd1db-0edd-4b1f-c1fe-29c10bf93c4c"
      },
      "outputs": [
        {
          "name": "stdout",
          "output_type": "stream",
          "text": [
            "             df      sum_sq    mean_sq         F    PR(>F)\n",
            "Technique   2.0   77.622222  38.811111  9.863389  0.000138\n",
            "Residual   87.0  342.333333   3.934866       NaN       NaN\n"
          ]
        }
      ],
      "source": [
        "## Fit One-Way ANOVA Model ##\n",
        "\n",
        "egg_mod = ols(\"Rating~Technique\",data=egg_data).fit()\n",
        "\n",
        "## Print ANOVA Table ##\n",
        "\n",
        "print(sm.stats.anova_lm(egg_mod,typ=1))"
      ]
    },
    {
      "cell_type": "markdown",
      "id": "f5cf57d5",
      "metadata": {
        "id": "f5cf57d5"
      },
      "source": [
        "- Our $F_{\\text{Stat}} = 9.86$ and has an associated p-value of 0.0001.\n",
        "\n",
        "- This indicates that our data more strongly support the alternative hypothesis, if we use our traditional $\\alpha$-level of 0.05.\n",
        "\n",
        "- Contextually, this means that at least two of the Cooking Techniques have mean ratings which may meaningfully differ, from a statistical perspective.\n",
        "\n",
        "- But the F-test on its own cannot tell us *which* ratings meaningfully differ.\n",
        "\n",
        "- Obviously we have a guess based on what we saw in the descriptive analysis. But to evaluate this using an inferential method, we must employ a **post-hoc test**.\n",
        "\n",
        "### Next Steps: Post-Hoc Analysis\n",
        "\n",
        "- There exist many techniques for post-hoc analysis.\n",
        "\n",
        "- The one we will use in this course is called **Tukey's Honestly Significant Difference (HSD)** method.\n",
        "\n",
        "    - Let's see how it works!\n",
        "\n",
        "- We perform this test for each pair of means. For a given pair of means, say $i$ and $i^*$, our statistical hypotheses are:\n",
        "\n",
        "$$ H_0: \\mu_i = \\mu_{i^*} $$\n",
        "\n",
        "$$ H_1: \\mu_i \\neq \\mu_{i^*} $$\n",
        "\n",
        "- Our test statistic is:\n",
        "\n",
        "$$ q_{\\text{Stat}} = \\frac{|\\bar{x}_i - \\bar{x}_{i^*}|}{\\sqrt{\\frac{MSE}{2}\\bigg(\\frac{1}{r_i} + \\frac{1}{r_{i^*}}\\bigg)}} $$\n",
        "\n",
        "- This test statistic follows a distribution known as the *Studentized Range* distribution, typically denoted as $q$.\n",
        "\n",
        "- If $q_{\\text{Stat}} > q_{cv}$, then this indicates to us that these two groups, $i$ and $i^*$, have means which differ substantially.\n",
        "\n",
        "- While we could do this by hand, we can have Python peform this analysis for us using the `pairwise_tukeyhsd` function:"
      ]
    },
    {
      "cell_type": "code",
      "execution_count": null,
      "id": "05deef70",
      "metadata": {
        "id": "05deef70",
        "outputId": "5d272820-1fe2-40a1-8027-7b3b3632238a"
      },
      "outputs": [
        {
          "name": "stdout",
          "output_type": "stream",
          "text": [
            "     Multiple Comparison of Means - Tukey HSD, FWER=0.05     \n",
            "=============================================================\n",
            "   group1      group2  meandiff p-adj   lower   upper  reject\n",
            "-------------------------------------------------------------\n",
            "Bacon Grease    Butter  -2.2667 0.0001 -3.4879 -1.0454   True\n",
            "Bacon Grease Olive Oil     -1.3 0.0342 -2.5213 -0.0787   True\n",
            "      Butter Olive Oil   0.9667 0.1484 -0.2546  2.1879  False\n",
            "-------------------------------------------------------------\n"
          ]
        }
      ],
      "source": [
        "from statsmodels.stats.multicomp import pairwise_tukeyhsd\n",
        "\n",
        "## Perform Tukey's HSD test ##\n",
        "\n",
        "tukey_result = pairwise_tukeyhsd(endog=egg_data['Rating'], groups=egg_data['Technique'],\n",
        "                                 alpha=0.05)\n",
        "\n",
        "print(tukey_result)"
      ]
    },
    {
      "cell_type": "markdown",
      "id": "b5ecf10b",
      "metadata": {
        "id": "b5ecf10b"
      },
      "source": [
        "- These results, as shown by the adjusted $p < 0.05$, indicate that the mean rating for Bacon Grease is greater than both the Butter and Olive Oil mean rating.\n",
        "\n",
        "- However, the difference in mean rating between Olive Oil and Butter was not found to be statistically different.\n",
        "\n",
        "- So as we noted during the descriptive analysis, the head chef should cook fried eggs in bacon grease based on the result of this experiment.\n",
        "\n",
        "### Why Post-Hoc?\n",
        "\n",
        "- You may be asking yourself, \"Self, why couldn't we just use several independent means $t$-tests to draw the same conclusion?\"\n",
        "\n",
        "- While this may seem like a good idea, we actually run into a big problem when performing multiple comparisons.\n",
        "\n",
        "- Namely, our Type I error rate (the probability of a test signaling in favor of $H_1$ when $H_0$ is actually true) increases!\n",
        "\n",
        "- Post-Hoc methods, like Tukey's HSD, adjust the Type I error rate to maintain the desired overall significance level, $\\alpha$.\n",
        "\n",
        "- Moreover, Post-Hoc tests simultaneously compare all group means, which provides a more efficient approach in identifying potentially significant differences.\n",
        "\n",
        "- Finally, good Post-Hoc tests, like Tukey's HSD, are designed to work with, not independently of, the ANOVA F-test."
      ]
    }
  ],
  "metadata": {
    "language_info": {
      "name": "python"
    },
    "colab": {
      "provenance": [],
      "include_colab_link": true
    },
    "kernelspec": {
      "name": "python3",
      "display_name": "Python 3"
    }
  },
  "nbformat": 4,
  "nbformat_minor": 5
}